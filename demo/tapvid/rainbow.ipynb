{
 "cells": [
  {
   "cell_type": "code",
   "execution_count": null,
   "metadata": {},
   "outputs": [],
   "source": []
  }
 ],
 "metadata": {
  "kernelspec": {
   "display_name": ".venv",
   "language": "python",
   "name": "python3"
  },
  "language_info": {
   "name": "python",
   "version": "3.10.14 (main, Jul 13 2024, 23:51:03) [Clang 17.0.6 ]"
  },
  "orig_nbformat": 4,
  "vscode": {
   "interpreter": {
    "hash": "29ae90e401a7d7b78839754709e82335b8ce0af0a57eb2f6f682bf77abe99648"
   }
  }
 },
 "nbformat": 4,
 "nbformat_minor": 2
}
